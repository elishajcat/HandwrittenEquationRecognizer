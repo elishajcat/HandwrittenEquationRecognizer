{
 "cells": [
  {
   "cell_type": "code",
   "execution_count": 168,
   "metadata": {},
   "outputs": [],
   "source": [
    "import cv2\n",
    "import numpy as np\n",
    "import matplotlib.pyplot as plt\n",
    "import os\n",
    "import glob\n",
    "import re"
   ]
  },
  {
   "cell_type": "code",
   "execution_count": 169,
   "metadata": {},
   "outputs": [],
   "source": [
    "mapping_symbol_names = {'decimal': 'dot', 'minus': 'minus', 'plus': 'plus',\n",
    "                        'div': 'div', 'equal': 'equal', 'times': 'times',\n",
    "                        'zero': '0', 'one': '1', 'two': '2', 'three': '3', 'four': '4',\n",
    "                        'five': '5', 'six': '6', 'seven': '7', 'eight': '8', 'nine': '9'}\n",
    "\n",
    "new_symbols = ['div', 'equal', 'times']"
   ]
  },
  {
   "cell_type": "code",
   "execution_count": 170,
   "metadata": {},
   "outputs": [],
   "source": [
    "def preprocess_hms_dataset1(source_dir, dest_dir):\n",
    "    max_file_numbers = {}\n",
    "\n",
    "    symbol_dirs = [os.path.join(source_dir, file_name) for file_name in os.listdir(source_dir)]\n",
    "    dest_file_list = [os.path.join(dest_dir, file_name) for file_name in os.listdir(dest_dir)]\n",
    "\n",
    "    for symbol_path in symbol_dirs:\n",
    "        symbol_name = symbol_path.split('\\\\')[-1].split(' ')[0]\n",
    "        \n",
    "        if symbol_name in mapping_symbol_names.keys():\n",
    "            symbol_files = glob.glob(os.path.join(symbol_path, '*.jpg'))\n",
    "            for symbol_file in symbol_files:\n",
    "                symbol = mapping_symbol_names[symbol_name]\n",
    "                \n",
    "                # Look for symbol png files in destination folder using pattern\n",
    "                pattern = f'{symbol}' + r'-(\\d{4})\\.png'\n",
    "                \n",
    "                # if max file value for symbol has already been found for \n",
    "                if symbol in max_file_numbers.keys():\n",
    "                    max_number = max_file_numbers[symbol]\n",
    "                # new symbol\n",
    "                elif symbol in new_symbols:\n",
    "                    max_number = 0\n",
    "                else:\n",
    "                    # Extract numbers from each filename and store them in a list\n",
    "                    extracted_numbers = [re.search(pattern, i.split(\"\\\\\")[-1]) for i in dest_file_list]\n",
    "                    extracted_numbers = [int(i.group(1)) for i in extracted_numbers if i != None]\n",
    "                    max_number = max(extracted_numbers) + 1\n",
    "                    \n",
    "                max_file_numbers[symbol] = max_number + 1\n",
    "                \n",
    "                max_number = str(max_number).zfill(4)\n",
    "                image = cv2.imread(symbol_file, cv2.IMREAD_GRAYSCALE)\n",
    "                new_png_file = f\"{symbol}-{max_number}.png\"\n",
    "                cv2.imwrite(os.path.join(dest_dir, new_png_file), image)"
   ]
  },
  {
   "cell_type": "code",
   "execution_count": 171,
   "metadata": {},
   "outputs": [],
   "source": [
    "preprocess_hms_dataset1('..\\\\HMS-dataset1\\\\train', '..\\\\HMS-dataset2\\symbols')"
   ]
  },
  {
   "cell_type": "code",
   "execution_count": 172,
   "metadata": {},
   "outputs": [],
   "source": [
    "preprocess_hms_dataset1('..\\\\HMS-dataset1\\\\eval', '..\\\\HMS-dataset2\\symbols')"
   ]
  },
  {
   "cell_type": "markdown",
   "metadata": {},
   "source": [
    "## For cropping images before saving:"
   ]
  },
  {
   "cell_type": "code",
   "execution_count": 21,
   "metadata": {},
   "outputs": [],
   "source": [
    "# Load the image as grayscale\n",
    "image = cv2.imread('12.jpg', cv2.IMREAD_GRAYSCALE)\n",
    "\n",
    "resized_image = cv2.resize(image, (100, 100))\n",
    "\n",
    "_, thresh = cv2.threshold(image, 127, 255, cv2.THRESH_BINARY_INV)\n",
    "contours, _ = cv2.findContours(thresh, cv2.RETR_EXTERNAL, cv2.CHAIN_APPROX_SIMPLE)"
   ]
  },
  {
   "cell_type": "code",
   "execution_count": 22,
   "metadata": {},
   "outputs": [
    {
     "data": {
      "text/plain": [
       "<matplotlib.collections.PathCollection at 0x205e8a58a60>"
      ]
     },
     "execution_count": 22,
     "metadata": {},
     "output_type": "execute_result"
    },
    {
     "data": {
      "image/png": "[encoded data removed]",
      "text/plain": [
       "<Figure size 640x480 with 1 Axes>"
      ]
     },
     "metadata": {},
     "output_type": "display_data"
    }
   ],
   "source": [
    "# Find the contour with the largest area (assuming it's the handwritten symbol)\n",
    "largest_contour = max(contours, key=cv2.contourArea)\n",
    "\n",
    "# Find the centroid of the largest contour\n",
    "M = cv2.moments(largest_contour)\n",
    "centroid_x = int(M['m10'] / M['m00'])\n",
    "centroid_y = int(M['m01'] / M['m00'])\n",
    "\n",
    "# Plot the image\n",
    "plt.imshow(cv2.cvtColor(image, cv2.COLOR_BGR2RGB))\n",
    "\n",
    "# Plot the centroid\n",
    "plt.scatter(centroid_x, centroid_y, color='red', marker='x')"
   ]
  },
  {
   "cell_type": "code",
   "execution_count": 29,
   "metadata": {},
   "outputs": [
    {
     "data": {
      "image/png": "[encoded data removed]",
      "text/plain": [
       "<Figure size 640x480 with 1 Axes>"
      ]
     },
     "metadata": {},
     "output_type": "display_data"
    }
   ],
   "source": [
    "# Define the size of the crop region around the centroid\n",
    "crop_size = 64\n",
    "\n",
    "# Calculate the coordinates of the bounding box\n",
    "x1 = max(0, centroid_x - crop_size)\n",
    "y1 = max(0, centroid_y - crop_size)\n",
    "x2 = min(image.shape[1], centroid_x + crop_size)\n",
    "y2 = min(image.shape[0], centroid_y + crop_size)\n",
    "\n",
    "# Crop the image\n",
    "cropped_image = image[y1:y2, x1:x2]\n",
    "\n",
    "# Plot the cropped image\n",
    "plt.imshow(cv2.cvtColor(cropped_image, cv2.COLOR_BGR2RGB))\n",
    "plt.axis('off')\n",
    "plt.show()"
   ]
  },
  {
   "cell_type": "code",
   "execution_count": 30,
   "metadata": {},
   "outputs": [
    {
     "data": {
      "text/plain": [
       "True"
      ]
     },
     "execution_count": 30,
     "metadata": {},
     "output_type": "execute_result"
    }
   ],
   "source": [
    "# Save the cropped image\n",
    "cv2.imwrite('12_cropped.png', cropped_image)"
   ]
  }
 ],
 "metadata": {
  "kernelspec": {
   "display_name": "project_venv",
   "language": "python",
   "name": "python3"
  },
  "language_info": {
   "codemirror_mode": {
    "name": "ipython",
    "version": 3
   },
   "file_extension": ".py",
   "mimetype": "text/x-python",
   "name": "python",
   "nbconvert_exporter": "python",
   "pygments_lexer": "ipython3",
   "version": "3.9.13"
  }
 },
 "nbformat": 4,
 "nbformat_minor": 2
}
